{
 "cells": [
  {
   "cell_type": "markdown",
   "id": "11bcc8a1-34b1-4a93-83a5-009e4b4d3cb2",
   "metadata": {},
   "source": [
    "### Download taxi dataset"
   ]
  },
  {
   "cell_type": "markdown",
   "id": "f2e58432-0507-4dc6-ac60-28d88f24a301",
   "metadata": {},
   "source": [
    "Our dataset size was about 10GB so we decided not to upload it on the repository"
   ]
  },
  {
   "cell_type": "code",
   "execution_count": null,
   "id": "24a12024-7391-46c1-8eb9-1c24a09e9361",
   "metadata": {},
   "outputs": [],
   "source": [
    "import os\n",
    "import urllib.request\n",
    "\n",
    "\n",
    "os.chdir('../resources')\n",
    "dir=os.path.abspath('.')\n",
    "work_path=os.path.join(dir,'2018-taxi-trip-data.csv')  \n",
    "urllib.request.urlretrieve('https://data.cityofnewyork.us/api/views/t29m-gskq/rows.csv?accessType=DOWNLOAD', work_path)"
   ]
  }
 ],
 "metadata": {
  "kernelspec": {
   "display_name": "Python 3",
   "language": "python",
   "name": "python3"
  },
  "language_info": {
   "codemirror_mode": {
    "name": "ipython",
    "version": 3
   },
   "file_extension": ".py",
   "mimetype": "text/x-python",
   "name": "python",
   "nbconvert_exporter": "python",
   "pygments_lexer": "ipython3",
   "version": "3.8.2"
  }
 },
 "nbformat": 4,
 "nbformat_minor": 5
}

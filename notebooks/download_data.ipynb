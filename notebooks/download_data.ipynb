{
 "cells": [
  {
   "cell_type": "code",
   "execution_count": null,
   "id": "24a12024-7391-46c1-8eb9-1c24a09e9361",
   "metadata": {},
   "outputs": [],
   "source": [
    "import os\n",
    "import urllib.request\n",
    "\n",
    "\n",
    "os.chdir('../resources')\n",
    "dir=os.path.abspath('.')\n",
    "work_path=os.path.join(dir,'2018-taxi-trip-data.csv')  \n",
    "urllib.request.urlretrieve('https://data.cityofnewyork.us/api/views/t29m-gskq/rows.csv?accessType=DOWNLOAD', work_path)"
   ]
  }
 ],
 "metadata": {
  "kernelspec": {
   "display_name": "Python 3",
   "language": "python",
   "name": "python3"
  },
  "language_info": {
   "codemirror_mode": {
    "name": "ipython",
    "version": 3
   },
   "file_extension": ".py",
   "mimetype": "text/x-python",
   "name": "python",
   "nbconvert_exporter": "python",
   "pygments_lexer": "ipython3",
   "version": "3.8.2"
  }
 },
 "nbformat": 4,
 "nbformat_minor": 5
}

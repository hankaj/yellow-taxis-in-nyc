{
 "cells": [
  {
   "cell_type": "markdown",
   "id": "11bcc8a1-34b1-4a93-83a5-009e4b4d3cb2",
   "metadata": {},
   "source": [
    "### Download taxi dataset"
   ]
  },
  {
   "cell_type": "markdown",
   "id": "f2e58432-0507-4dc6-ac60-28d88f24a301",
   "metadata": {},
   "source": [
    "Our dataset size was about 10GB so we decided not to upload it on the repository"
   ]
  },
  {
   "cell_type": "code",
   "execution_count": null,
   "id": "b581d550-9144-4bee-9cb9-a386f367830b",
   "metadata": {},
   "outputs": [],
   "source": [
    "import os\n",
    "import requests\n",
    "\n",
    "\n",
    "url = \"https://data.cityofnewyork.us/api/views/t29m-gskq/rows.csv?accessType=DOWNLOAD\"\n",
    "response = requests.get(url, stream = True)\n",
    "\n",
    "with open(\"../resources/2018-taxi-trip-data.csv\", \"wb\") as f:\n",
    "    for chunk in response.iter_content(chunk_size = 200000):\n",
    "        f.write(chunk)"
   ]
  },
  {
   "cell_type": "code",
   "execution_count": null,
   "id": "68689db2-6438-4266-8118-43f5892f4498",
   "metadata": {},
   "outputs": [],
   "source": []
  }
 ],
 "metadata": {
  "kernelspec": {
   "display_name": "Python 3",
   "language": "python",
   "name": "python3"
  },
  "language_info": {
   "codemirror_mode": {
    "name": "ipython",
    "version": 3
   },
   "file_extension": ".py",
   "mimetype": "text/x-python",
   "name": "python",
   "nbconvert_exporter": "python",
   "pygments_lexer": "ipython3",
   "version": "3.8.8"
  }
 },
 "nbformat": 4,
 "nbformat_minor": 5
}

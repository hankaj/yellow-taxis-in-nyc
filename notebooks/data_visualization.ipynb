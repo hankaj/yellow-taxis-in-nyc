{
 "cells": [
  {
   "cell_type": "code",
   "execution_count": null,
   "metadata": {
    "collapsed": false,
    "jupyter": {
     "outputs_hidden": false
    },
    "pycharm": {
     "name": "#%%\n"
    }
   },
   "outputs": [],
   "source": [
    "from ipyleaflet import Map, basemaps, GeoJSON, WidgetControl\n",
    "from ipywidgets import Text, HTML\n",
    "import json\n",
    "import pandas as pd"
   ]
  },
  {
   "cell_type": "markdown",
   "metadata": {},
   "source": [
    "In the beginning, we load geojson data of taxi zones in NY."
   ]
  },
  {
   "cell_type": "code",
   "execution_count": null,
   "metadata": {},
   "outputs": [],
   "source": [
    "with open('../resources/NYC_Taxi_Zones.geojson', 'r') as f:\n",
    "    taxi_zones_data = json.load(f)"
   ]
  },
  {
   "cell_type": "markdown",
   "metadata": {},
   "source": [
    "The next step is loading processed clean data of taxis in NY. Then, the number of pickups is counted and divided into equal bins for each zone."
   ]
  },
  {
   "cell_type": "code",
   "execution_count": null,
   "metadata": {},
   "outputs": [],
   "source": [
    "pickup_locations = pd.read_csv('../processed_data/2018-taxi-trip-data-clean.csv', usecols = ['pickup_location'])\n",
    "pickup_locations_binned = pd.cut(pickup_locations.pickup_location.value_counts(), bins = 50, labels = range(49, -1, -1))"
   ]
  },
  {
   "cell_type": "markdown",
   "metadata": {},
   "source": [
    "Creating useful functions to visualize the map:\n",
    "\n",
    "- get_color - the function returns the proper color, that corresponds with the number of pickups, for the given zone.\n",
    "- update_html - the function adds the information label to the map."
   ]
  },
  {
   "cell_type": "code",
   "execution_count": null,
   "metadata": {},
   "outputs": [],
   "source": [
    "def get_color(feature):\n",
    "    location_id = int(feature['properties']['location_id'])\n",
    "    color_index = 49\n",
    "    \n",
    "    try: \n",
    "        color_index = pickup_locations_binned[location_id]\n",
    "    except KeyError:\n",
    "        pass\n",
    "    \n",
    "    colors = ['#660F00','#6C1000','#721100','#781200','#7F1300','#851400','#8B1500',\n",
    "              '#911600','#971700','#9D1700','#A31800','#A91900','#AF1A00','#B61B00',\n",
    "              '#BC1C00','#C21D00','#C81E00','#CE1F00','#D42000','#DA2100','#E02100',\n",
    "              '#E72200','#ED2300','#F32400','#F92500','#FF2600','#FF3108','#FF3C11',\n",
    "              '#FF4719','#FF5121','#FF5B29','#FF6532','#FF6E3A','#FF7742','#FF804A',\n",
    "              '#FF8953','#FF915B','#FF9A63','#FFA16B','#FFA974','#FFB07C','#FFB784',\n",
    "              '#FFBE8D','#FFC495','#FFCB9D','#FFD1A5','#FFD6AE','#FFDCB6','#FFE1BE',\n",
    "              '#FFE5C6','#FFEACF'] \n",
    "    \n",
    "    return {'fillColor': colors[color_index]}\n",
    "\n",
    "def update_html(feature, **kwargs):\n",
    "    location_id = int(feature['properties']['location_id'])\n",
    "    pickup_count = 0\n",
    "    \n",
    "    try: \n",
    "        pickup_count = pickup_locations.pickup_location.value_counts()[location_id]\n",
    "    except KeyError:\n",
    "        pass\n",
    "    \n",
    "    html.value = \"\"\"\n",
    "        <h3><b>{}</b></h3>\n",
    "        <h4>Pickup count: {}</h4>\n",
    "    \"\"\".format(\n",
    "        feature['properties']['zone'],\n",
    "        pickup_count\n",
    "    )"
   ]
  },
  {
   "cell_type": "markdown",
   "metadata": {},
   "source": [
    "Once we have both the needed data and the useful functions we create the map that displays the result."
   ]
  },
  {
   "cell_type": "code",
   "execution_count": null,
   "metadata": {
    "collapsed": false,
    "jupyter": {
     "outputs_hidden": false
    },
    "pycharm": {
     "name": "#%%\n"
    }
   },
   "outputs": [],
   "source": [
    "center = [40.6970, -74.0121]\n",
    "zoom = 9.5\n",
    "\n",
    "ny_map = Map(basemaps = basemaps.OpenStreetMap.Mapnik, center = center, zoom = zoom)\n",
    "\n",
    "taxi_zones_geojson = GeoJSON(\n",
    "    data = taxi_zones_data,\n",
    "    style  = {\n",
    "        'color': '#555555', 'opacity': 1, 'fillOpacity': 0.8, 'weight': 0.6\n",
    "    },\n",
    "    style_callback = get_color\n",
    ")\n",
    "taxi_zones_geojson.on_hover(update_html)\n",
    "\n",
    "html = HTML(\"\"\"Hover over a zone\"\"\")\n",
    "html.layout.margin = \"0px 20px 0px 20px\"\n",
    "text_box = WidgetControl(widget = html, position=\"topright\")\n",
    "\n",
    "ny_map.add_layer(taxi_zones_geojson)\n",
    "ny_map.add_control(text_box)"
   ]
  },
  {
   "cell_type": "markdown",
   "metadata": {},
   "source": [
    "The final step is to display the map."
   ]
  },
  {
   "cell_type": "code",
   "execution_count": null,
   "metadata": {
    "collapsed": false,
    "jupyter": {
     "outputs_hidden": false
    },
    "pycharm": {
     "name": "#%%\n"
    }
   },
   "outputs": [],
   "source": [
    "display(ny_map)"
   ]
  }
 ],
 "metadata": {
  "kernelspec": {
   "display_name": "Python 3",
   "language": "python",
   "name": "python3"
  },
  "language_info": {
   "codemirror_mode": {
    "name": "ipython",
    "version": 3
   },
   "file_extension": ".py",
   "mimetype": "text/x-python",
   "name": "python",
   "nbconvert_exporter": "python",
   "pygments_lexer": "ipython3",
   "version": "3.8.2"
  }
 },
 "nbformat": 4,
 "nbformat_minor": 4
}

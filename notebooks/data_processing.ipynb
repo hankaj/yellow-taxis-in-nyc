{
 "cells": [
  {
   "cell_type": "code",
   "execution_count": 1,
   "metadata": {
    "collapsed": false,
    "jupyter": {
     "outputs_hidden": false
    },
    "pycharm": {
     "name": "#%%\n"
    }
   },
   "outputs": [],
   "source": [
    "import pandas as pd\n",
    "import numpy as np\n",
    "import os.path"
   ]
  },
  {
   "cell_type": "markdown",
   "metadata": {
    "pycharm": {
     "name": "#%% md\n"
    }
   },
   "source": [
    "First of all, we create the list of column names that will be used in the final dataset."
   ]
  },
  {
   "cell_type": "code",
   "execution_count": 2,
   "metadata": {
    "collapsed": false,
    "jupyter": {
     "outputs_hidden": false
    },
    "pycharm": {
     "name": "#%%\n"
    }
   },
   "outputs": [],
   "source": [
    "cols = ['tpep_pickup_datetime', 'tpep_dropoff_datetime', 'passenger_count', 'trip_distance', 'PULocationID', 'DOLocationID']"
   ]
  },
  {
   "cell_type": "markdown",
   "metadata": {
    "pycharm": {
     "name": "#%% md\n"
    }
   },
   "source": [
    "Then, we load the dataset that contains the columns specified above."
   ]
  },
  {
   "cell_type": "code",
   "execution_count": 17,
   "metadata": {
    "collapsed": false,
    "jupyter": {
     "outputs_hidden": false
    },
    "pycharm": {
     "name": "#%%\n"
    }
   },
   "outputs": [],
   "source": [
    "data_iter = pd.read_csv('../resources/2018-taxi-trip-data.csv', usecols = cols, iterator = True, chunksize = 20000)"
   ]
  },
  {
   "cell_type": "markdown",
   "metadata": {
    "pycharm": {
     "name": "#%% md\n"
    }
   },
   "source": [
    "Finally, we do the data processing by:\n",
    "- renaming the columns.\n",
    "- changing both the pickup and the dropoff day of the week to trigonometric values that represent it. [Here is the article that describes that transformation.](https://www.mikulskibartosz.name/time-in-machine-learning/)\n",
    "- changing pickup and dropofff time the same way we did with days of week\n",
    "\n",
    "DataFrame is saved to a csv file, so that it can be used in other scripts"
   ]
  },
  {
   "cell_type": "code",
   "execution_count": 18,
   "metadata": {
    "collapsed": false,
    "jupyter": {
     "outputs_hidden": false
    },
    "pycharm": {
     "name": "#%%\n"
    }
   },
   "outputs": [],
   "source": [
    "for df in data_iter:\n",
    "    df.rename(columns = {'PULocationID': 'pickup_location', 'DOLocationID': 'dropoff_location'}, inplace = True)\n",
    "\n",
    "    df['tpep_pickup_datetime'] = pd.to_datetime(df['tpep_pickup_datetime'])\n",
    "    df['tpep_dropoff_datetime'] = pd.to_datetime(df['tpep_dropoff_datetime'])\n",
    "\n",
    "    df['day_of_week_pickup_sin'] = np.sin(df['tpep_pickup_datetime'].dt.dayofweek * (2 * np.pi / 7))\n",
    "    df['day_of_week_pickup_cos'] = np.cos(df['tpep_pickup_datetime'].dt.dayofweek * (2 * np.pi / 7))\n",
    "\n",
    "    df['day_of_week_dropoff_sin'] = np.sin(df['tpep_dropoff_datetime'].dt.dayofweek * (2 * np.pi / 7))\n",
    "    df['day_of_week_dropoff_cos'] = np.cos(df['tpep_dropoff_datetime'].dt.dayofweek * (2 * np.pi / 7))\n",
    "\n",
    "    df['pickup_time_sin'] = np.sin(2 * np.pi * df['tpep_pickup_datetime'].dt.hour/24.0)\n",
    "    df['pickup_time_cos'] = np.cos(2 * np.pi * df['tpep_pickup_datetime'].dt.hour/24.0)\n",
    "\n",
    "    df['dropoff_time_sin'] = np.sin(2 * np.pi * df['tpep_dropoff_datetime'].dt.hour/24.0)\n",
    "    df['dropoff_time_cos'] = np.cos(2 * np.pi * df['tpep_dropoff_datetime'].dt.hour/24.0)\n",
    "\n",
    "    df.drop(columns = ['tpep_pickup_datetime', 'tpep_dropoff_datetime'], inplace = True)\n",
    "\n",
    "    if not os.path.exists('../processed_data/2018-taxi-trip-data-clean.csv'):\n",
    "        df.to_csv('../processed_data/2018-taxi-trip-data-clean.csv', index = False)\n",
    "        continue\n",
    "\n",
    "    df.to_csv('../processed_data/2018-taxi-trip-data-clean.csv', mode = 'a', index = False, header = False)"
   ]
  }
 ],
 "metadata": {
  "kernelspec": {
   "display_name": "Python 3",
   "language": "python",
   "name": "python3"
  },
  "language_info": {
   "codemirror_mode": {
    "name": "ipython",
    "version": 3
   },
   "file_extension": ".py",
   "mimetype": "text/x-python",
   "name": "python",
   "nbconvert_exporter": "python",
   "pygments_lexer": "ipython3",
   "version": "3.8.2"
  }
 },
 "nbformat": 4,
 "nbformat_minor": 4
}

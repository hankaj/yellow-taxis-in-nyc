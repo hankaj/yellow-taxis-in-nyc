{
 "cells": [
  {
   "cell_type": "code",
   "execution_count": null,
   "id": "d9d30c55-cdad-488c-86c4-bedd361fbf15",
   "metadata": {},
   "outputs": [],
   "source": [
    "import geopandas as gpd"
   ]
  },
  {
   "cell_type": "code",
   "execution_count": null,
   "id": "8ad21046-b888-4eb5-a733-0925168fcf17",
   "metadata": {},
   "outputs": [],
   "source": [
    "import pyrosm"
   ]
  },
  {
   "cell_type": "markdown",
   "id": "9d9239ea-6307-4c03-b688-419b97f463f8",
   "metadata": {},
   "source": [
    "First of all we loaded OSM data of New York City"
   ]
  },
  {
   "cell_type": "code",
   "execution_count": null,
   "id": "09fa4228-1079-43f4-9e2a-1b423493f926",
   "metadata": {},
   "outputs": [],
   "source": [
    "osm = pyrosm.OSM(\"newyorkcity.osm.pbf\")\n",
    "gdf_driving = osm.get_network(network_type=\"driving\")\n",
    "gdf_driving.head()"
   ]
  },
  {
   "cell_type": "markdown",
   "id": "a6b10f90-b78a-4e38-a12a-1d172de0b828",
   "metadata": {},
   "source": [
    "Then, we obtained Taxi zones"
   ]
  },
  {
   "cell_type": "code",
   "execution_count": null,
   "id": "4362fe61-7414-4972-8b92-ba91e712643a",
   "metadata": {},
   "outputs": [],
   "source": [
    "gdf_zones = gpd.read_file('NYC_Taxi_Zones.geojson')\n",
    "gdf_zones.head()"
   ]
  },
  {
   "cell_type": "markdown",
   "id": "28f98057-6c13-465e-a0f0-f6677122189b",
   "metadata": {},
   "source": [
    "Next step was to check if crses are equal"
   ]
  },
  {
   "cell_type": "code",
   "execution_count": null,
   "id": "d7e7d768-06a2-4c07-8f8e-02048ed1a55b",
   "metadata": {},
   "outputs": [],
   "source": [
    "gdf_driving.crs"
   ]
  },
  {
   "cell_type": "code",
   "execution_count": null,
   "id": "bf2362d1-88e2-4327-8e8d-01d761ee818d",
   "metadata": {},
   "outputs": [],
   "source": [
    "gdf_zones.crs"
   ]
  },
  {
   "cell_type": "markdown",
   "id": "2b481e38-253c-43ed-86b2-3bb363e87053",
   "metadata": {},
   "source": [
    "We clipped roads to fit into zones"
   ]
  },
  {
   "cell_type": "code",
   "execution_count": null,
   "id": "35343b01-ceba-4974-ab5a-466805def39f",
   "metadata": {},
   "outputs": [],
   "source": [
    "gdf_roads = gpd.clip(gdf_driving, gdf_zones)"
   ]
  },
  {
   "cell_type": "code",
   "execution_count": null,
   "id": "c58f845f-2345-447a-a23b-e0a0c4b5385e",
   "metadata": {},
   "outputs": [],
   "source": [
    "gdf_roads.head()"
   ]
  },
  {
   "cell_type": "markdown",
   "id": "70aa73c0-88fc-4ebb-a2ec-b9cdb04f7097",
   "metadata": {},
   "source": [
    "We joined zones with its roads"
   ]
  },
  {
   "cell_type": "code",
   "execution_count": null,
   "id": "2fefa698-1302-4e7f-afce-de1aa523fcd8",
   "metadata": {},
   "outputs": [],
   "source": [
    "roads_in_zones = gpd.sjoin(\n",
    "    gdf_roads,\n",
    "    gdf_zones,\n",
    "    predicate='intersects'\n",
    ")"
   ]
  },
  {
   "cell_type": "code",
   "execution_count": null,
   "id": "148b2fe0-b3e2-4143-b4bf-29dfbf20a73e",
   "metadata": {},
   "outputs": [],
   "source": [
    "roads_in_zones.head()"
   ]
  },
  {
   "cell_type": "markdown",
   "id": "f5d37269-f996-4028-b92f-bdcbbabfa8df",
   "metadata": {},
   "source": [
    "Last step was to sum lengths of roads in each zone"
   ]
  },
  {
   "cell_type": "code",
   "execution_count": null,
   "id": "19c143a3-82ea-4974-aca7-0e9028a85b16",
   "metadata": {},
   "outputs": [],
   "source": [
    "roads_in_zones.set_crs(epsg=4326, inplace=True)\n",
    "roads_in_zones['road_length'] = roads_in_zones['length']\n",
    "roads_length = roads_in_zones[['road_length', 'index_right']].groupby('index_right').sum()\n",
    "roads_length['zone_id'] = roads_length.index\n",
    "roads_length"
   ]
  },
  {
   "cell_type": "code",
   "execution_count": null,
   "id": "7fbaf505-98c1-4e14-9a8e-ec4f246b41ea",
   "metadata": {},
   "outputs": [],
   "source": [
    "roads_length.to_csv('Roads_Length.csv', index=False)"
   ]
  }
 ],
 "metadata": {
  "kernelspec": {
   "display_name": "Python 3 (ipykernel)",
   "language": "python",
   "name": "python3"
  },
  "language_info": {
   "codemirror_mode": {
    "name": "ipython",
    "version": 3
   },
   "file_extension": ".py",
   "mimetype": "text/x-python",
   "name": "python",
   "nbconvert_exporter": "python",
   "pygments_lexer": "ipython3",
   "version": "3.10.4"
  }
 },
 "nbformat": 4,
 "nbformat_minor": 5
}

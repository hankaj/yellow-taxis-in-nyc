{
 "cells": [
  {
   "cell_type": "code",
   "execution_count": null,
   "metadata": {
    "pycharm": {
     "name": "#%%\n"
    },
    "tags": []
   },
   "outputs": [],
   "source": [
    "import pandas as pd\n",
    "import os.path"
   ]
  },
  {
   "cell_type": "markdown",
   "metadata": {
    "pycharm": {
     "name": "#%% md\n"
    }
   },
   "source": [
    "Loading taxi and road lengths datasets"
   ]
  },
  {
   "cell_type": "code",
   "execution_count": null,
   "metadata": {
    "collapsed": false,
    "jupyter": {
     "outputs_hidden": false
    },
    "pycharm": {
     "name": "#%%\n"
    }
   },
   "outputs": [],
   "source": [
    "taxi_data = pd.read_csv('../processed_data/2018-taxi-trip-data-clean.csv', iterator=True, chunksize=10000)\n",
    "road_lengths = pd.read_csv('../processed_data/road_lengths.csv')"
   ]
  },
  {
   "cell_type": "markdown",
   "metadata": {
    "pycharm": {
     "name": "#%% md\n"
    }
   },
   "source": [
    "Creating empy dataframes, which will contain pickup and dropoff counts for each zone at unique day of week and pickup/dropoff time"
   ]
  },
  {
   "cell_type": "code",
   "execution_count": null,
   "metadata": {
    "collapsed": false,
    "jupyter": {
     "outputs_hidden": false
    },
    "pycharm": {
     "name": "#%%\n"
    }
   },
   "outputs": [],
   "source": [
    "taxi_pickup_count = pd.DataFrame(columns=['pickup_location', 'day_of_week_pickup_sin', 'day_of_week_pickup_cos', 'pickup_time_sin', 'pickup_time_cos', 'counts'])\n",
    "taxi_dropoff_count = pd.DataFrame(columns=['dropoff_location', 'day_of_week_dropoff_sin', 'day_of_week_dropoff_cos', 'dropoff_time_sin', 'dropoff_time_cos', 'counts'])"
   ]
  },
  {
   "cell_type": "markdown",
   "metadata": {
    "pycharm": {
     "name": "#%% md\n"
    }
   },
   "source": [
    "Grouping rows from a taxi data and summing pickup/dropoff counts"
   ]
  },
  {
   "cell_type": "code",
   "execution_count": null,
   "metadata": {
    "collapsed": false,
    "jupyter": {
     "outputs_hidden": false
    },
    "pycharm": {
     "name": "#%%\n"
    }
   },
   "outputs": [],
   "source": [
    "for df in taxi_data:\n",
    "    taxi_pickup_count = pd.concat([taxi_pickup_count, df.groupby(['pickup_location', 'day_of_week_pickup_sin', 'day_of_week_pickup_cos', 'pickup_time_sin', 'pickup_time_cos']).size().reset_index(name='counts')])\n",
    "    taxi_dropoff_count = pd.concat([taxi_dropoff_count, df.groupby(['dropoff_location', 'day_of_week_dropoff_sin', 'day_of_week_dropoff_cos', 'dropoff_time_sin', 'dropoff_time_cos']).size().reset_index(name='counts')])"
   ]
  },
  {
   "cell_type": "markdown",
   "metadata": {
    "pycharm": {
     "name": "#%% md\n"
    }
   },
   "source": [
    "Getting rid of duplicated rows by again summing their pickup/dropoff counts"
   ]
  },
  {
   "cell_type": "code",
   "execution_count": null,
   "metadata": {
    "collapsed": false,
    "jupyter": {
     "outputs_hidden": false
    },
    "pycharm": {
     "name": "#%%\n"
    }
   },
   "outputs": [],
   "source": [
    "taxi_pickup_count = taxi_pickup_count.groupby(['pickup_location', 'day_of_week_pickup_sin', 'day_of_week_pickup_cos', 'pickup_time_sin', 'pickup_time_cos'], as_index=False).sum()\n",
    "taxi_dropoff_count = taxi_dropoff_count.groupby(['dropoff_location', 'day_of_week_dropoff_sin', 'day_of_week_dropoff_cos', 'dropoff_time_sin', 'dropoff_time_cos'], as_index=False).sum()"
   ]
  },
  {
   "cell_type": "markdown",
   "metadata": {
    "pycharm": {
     "name": "#%% md\n"
    }
   },
   "source": [
    "Merging dataframes with road lenghts"
   ]
  },
  {
   "cell_type": "code",
   "execution_count": null,
   "metadata": {
    "collapsed": false,
    "jupyter": {
     "outputs_hidden": false
    },
    "pycharm": {
     "name": "#%%\n"
    }
   },
   "outputs": [],
   "source": [
    "taxi_pickup_count = pd.merge(taxi_pickup_count, road_lengths, left_on='pickup_location', right_on='zone_id')\n",
    "taxi_dropoff_count = pd.merge(taxi_dropoff_count, road_lengths, left_on='dropoff_location', right_on='zone_id')"
   ]
  },
  {
   "cell_type": "markdown",
   "metadata": {
    "pycharm": {
     "name": "#%% md\n"
    }
   },
   "source": [
    "Counting probability of pickup/dropoff for each zone at a given time and day of week, by dividing a number of pickups/dropoffs at a given period of time by sum of road lenghts in a choosen zone"
   ]
  },
  {
   "cell_type": "code",
   "execution_count": null,
   "metadata": {
    "collapsed": false,
    "jupyter": {
     "outputs_hidden": false
    },
    "pycharm": {
     "name": "#%%\n"
    }
   },
   "outputs": [],
   "source": [
    "taxi_pickup_count['probability_pickup'] = taxi_pickup_count.apply(lambda x: x['counts'] / x['road_length'], axis = 1)\n",
    "taxi_dropoff_count['probability_dropoff'] = taxi_dropoff_count.apply(lambda x: x['counts'] / x['road_length'], axis = 1)"
   ]
  },
  {
   "cell_type": "markdown",
   "metadata": {
    "pycharm": {
     "name": "#%% md\n"
    }
   },
   "source": [
    "Getting rid of redundant columns"
   ]
  },
  {
   "cell_type": "code",
   "execution_count": null,
   "metadata": {
    "collapsed": false,
    "jupyter": {
     "outputs_hidden": false
    },
    "pycharm": {
     "name": "#%%\n"
    }
   },
   "outputs": [],
   "source": [
    "taxi_pickup_count.drop(columns = ['counts', 'road_length', 'zone_id'], inplace=True)\n",
    "taxi_dropoff_count.drop(columns = ['counts', 'road_length', 'zone_id'], inplace=True)"
   ]
  },
  {
   "cell_type": "markdown",
   "metadata": {
    "pycharm": {
     "name": "#%% md\n"
    }
   },
   "source": [
    "Saving both dataframes to csv files, so that they can be used in other scripts"
   ]
  },
  {
   "cell_type": "code",
   "execution_count": null,
   "metadata": {
    "collapsed": false,
    "jupyter": {
     "outputs_hidden": false
    },
    "pycharm": {
     "name": "#%%\n"
    }
   },
   "outputs": [],
   "source": [
    "taxi_pickup_count.to_csv('../processed_data/taxi_pickup_prob.csv', index = False)\n",
    "taxi_dropoff_count.to_csv('../processed_data/taxi_dropoff_prob.csv', index = False)"
   ]
  },
  {
   "cell_type": "code",
   "execution_count": null,
   "metadata": {
    "collapsed": false,
    "jupyter": {
     "outputs_hidden": false
    },
    "pycharm": {
     "name": "#%%\n"
    }
   },
   "outputs": [],
   "source": []
  }
 ],
 "metadata": {
  "kernelspec": {
   "display_name": "Python 3",
   "language": "python",
   "name": "python3"
  },
  "language_info": {
   "codemirror_mode": {
    "name": "ipython",
    "version": 3
   },
   "file_extension": ".py",
   "mimetype": "text/x-python",
   "name": "python",
   "nbconvert_exporter": "python",
   "pygments_lexer": "ipython3",
   "version": "3.8.2"
  }
 },
 "nbformat": 4,
 "nbformat_minor": 4
}

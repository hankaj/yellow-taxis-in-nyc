{
 "cells": [
  {
   "cell_type": "code",
   "execution_count": 4,
   "metadata": {
    "collapsed": true,
    "pycharm": {
     "name": "#%%\n"
    }
   },
   "outputs": [],
   "source": [
    "import pandas as pd\n",
    "import os.path"
   ]
  },
  {
   "cell_type": "markdown",
   "source": [
    "Loading taxi and road lengths datasets"
   ],
   "metadata": {
    "collapsed": false,
    "pycharm": {
     "name": "#%% md\n"
    }
   }
  },
  {
   "cell_type": "code",
   "execution_count": 5,
   "outputs": [],
   "source": [
    "taxi_data = pd.read_csv('2018_Yellow_Taxi_Trip_Data_Clean.csv', iterator=True, chunksize=10000)\n",
    "road_lengths = pd.read_csv('roads_length.csv')"
   ],
   "metadata": {
    "collapsed": false,
    "pycharm": {
     "name": "#%%\n"
    }
   }
  },
  {
   "cell_type": "markdown",
   "source": [
    "Merging both datasets using pickup_location, dropoff_location and zone_id columns"
   ],
   "metadata": {
    "collapsed": false,
    "pycharm": {
     "name": "#%% md\n"
    }
   }
  },
  {
   "cell_type": "code",
   "execution_count": 6,
   "outputs": [],
   "source": [
    "for df in taxi_data:\n",
    "    df = pd.merge(df, road_lengths, left_on='pickup_location', right_on='zone_id')\n",
    "    df.rename(columns={\"road_length\": \"road_length_pickup\"}, inplace=True)\n",
    "\n",
    "    df = pd.merge(df, road_lengths, left_on='dropoff_location', right_on='zone_id')\n",
    "    df.rename(columns={\"road_length\": \"road_length_dropoff\"}, inplace=True)\n",
    "\n",
    "    df.drop(columns=['zone_id_x', 'zone_id_y'], inplace=True)\n",
    "\n",
    "    if not os.path.exists('Yellow_Taxi_Data_Final.csv'):\n",
    "        df.to_csv('Yellow_Taxi_Data_Final.csv', index = False)\n",
    "        pass\n",
    "\n",
    "    df.to_csv('Yellow_Taxi_Data_Final.csv', mode = 'a', index = False, header = False)"
   ],
   "metadata": {
    "collapsed": false,
    "pycharm": {
     "name": "#%%\n"
    }
   }
  }
 ],
 "metadata": {
  "kernelspec": {
   "display_name": "Python 3",
   "language": "python",
   "name": "python3"
  },
  "language_info": {
   "codemirror_mode": {
    "name": "ipython",
    "version": 2
   },
   "file_extension": ".py",
   "mimetype": "text/x-python",
   "name": "python",
   "nbconvert_exporter": "python",
   "pygments_lexer": "ipython2",
   "version": "2.7.6"
  }
 },
 "nbformat": 4,
 "nbformat_minor": 0
}